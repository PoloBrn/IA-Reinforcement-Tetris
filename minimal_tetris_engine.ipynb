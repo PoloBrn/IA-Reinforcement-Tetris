{
 "cells": [
  {
   "cell_type": "markdown",
   "id": "278b6a88",
   "metadata": {},
   "source": [
    "# Minimal Tetris Engine (No Interface)\n",
    "This notebook contains a basic implementation of a Tetris engine in Python."
   ]
  },
  {
   "cell_type": "code",
   "execution_count": null,
   "id": "6aed67a2",
   "metadata": {},
   "outputs": [],
   "source": [
    "import numpy as np\n",
    "import random\n",
    "from copy import deepcopy\n",
    "\n",
    "GRID_WIDTH = 10\n",
    "GRID_HEIGHT = 20\n"
   ]
  },
  {
   "cell_type": "code",
   "execution_count": null,
   "id": "4ecbbba7",
   "metadata": {},
   "outputs": [],
   "source": [
    "# Tetromino shapes in their default orientations\n",
    "TETROMINOES = {\n",
    "    'I': [[1, 1, 1, 1]],\n",
    "    'O': [[1, 1],\n",
    "          [1, 1]],\n",
    "    'T': [[0, 1, 0],\n",
    "          [1, 1, 1]],\n",
    "    'S': [[0, 1, 1],\n",
    "          [1, 1, 0]],\n",
    "    'Z': [[1, 1, 0],\n",
    "          [0, 1, 1]],\n",
    "    'J': [[1, 0, 0],\n",
    "          [1, 1, 1]],\n",
    "    'L': [[0, 0, 1],\n",
    "          [1, 1, 1]],\n",
    "}\n"
   ]
  },
  {
   "cell_type": "code",
   "execution_count": null,
   "id": "07617664",
   "metadata": {},
   "outputs": [],
   "source": [
    "def rotate(piece):\n",
    "    \"\"\"Rotate a piece 90 degrees clockwise.\"\"\"\n",
    "    return [list(row)[::-1] for row in zip(*piece)]\n"
   ]
  },
  {
   "cell_type": "code",
   "execution_count": null,
   "id": "d47bd695",
   "metadata": {},
   "outputs": [],
   "source": [
    "class Tetris:\n",
    "    def __init__(self):\n",
    "        self.grid = np.zeros((GRID_HEIGHT, GRID_WIDTH), dtype=int)\n",
    "        self.score = 0\n",
    "        self.reset_piece()\n",
    "\n",
    "    def reset_piece(self):\n",
    "        self.piece_type = random.choice(list(TETROMINOES.keys()))\n",
    "        self.piece = TETROMINOES[self.piece_type]\n",
    "        self.piece_x = GRID_WIDTH // 2 - len(self.piece[0]) // 2\n",
    "        self.piece_y = 0\n",
    "\n",
    "    def can_move(self, dx, dy, rotated_piece=None):\n",
    "        shape = rotated_piece if rotated_piece else self.piece\n",
    "        for y, row in enumerate(shape):\n",
    "            for x, cell in enumerate(row):\n",
    "                if cell:\n",
    "                    nx = self.piece_x + x + dx\n",
    "                    ny = self.piece_y + y + dy\n",
    "                    if nx < 0 or nx >= GRID_WIDTH or ny < 0 or ny >= GRID_HEIGHT:\n",
    "                        return False\n",
    "                    if self.grid[ny][nx]:\n",
    "                        return False\n",
    "        return True\n",
    "\n",
    "    def place_piece(self):\n",
    "        for y, row in enumerate(self.piece):\n",
    "            for x, cell in enumerate(row):\n",
    "                if cell:\n",
    "                    self.grid[self.piece_y + y][self.piece_x + x] = 1\n",
    "        self.clear_lines()\n",
    "        self.reset_piece()\n",
    "\n",
    "    def clear_lines(self):\n",
    "        new_grid = [row for row in self.grid if not all(row)]\n",
    "        lines_cleared = GRID_HEIGHT - len(new_grid)\n",
    "        self.score += lines_cleared\n",
    "        while len(new_grid) < GRID_HEIGHT:\n",
    "            new_grid.insert(0, np.zeros(GRID_WIDTH, dtype=int))\n",
    "        self.grid = np.array(new_grid)\n",
    "\n",
    "    def step(self):\n",
    "        if self.can_move(0, 1):\n",
    "            self.piece_y += 1\n",
    "        else:\n",
    "            self.place_piece()\n",
    "\n",
    "    def move_left(self):\n",
    "        if self.can_move(-1, 0):\n",
    "            self.piece_x -= 1\n",
    "\n",
    "    def move_right(self):\n",
    "        if self.can_move(1, 0):\n",
    "            self.piece_x += 1\n",
    "\n",
    "    def rotate_piece(self):\n",
    "        rotated = rotate(self.piece)\n",
    "        if self.can_move(0, 0, rotated):\n",
    "            self.piece = rotated\n",
    "\n",
    "    def render(self):\n",
    "        display = deepcopy(self.grid)\n",
    "        for y, row in enumerate(self.piece):\n",
    "            for x, cell in enumerate(row):\n",
    "                if cell:\n",
    "                    ny, nx = self.piece_y + y, self.piece_x + x\n",
    "                    if 0 <= ny < GRID_HEIGHT and 0 <= nx < GRID_WIDTH:\n",
    "                        display[ny][nx] = 2\n",
    "        for row in display:\n",
    "            print(''.join(['█' if x == 1 else '▓' if x == 2 else '.' for x in row]))\n",
    "        print(f\"Score: {self.score}\\n\")\n"
   ]
  },
  {
   "cell_type": "code",
   "execution_count": null,
   "id": "7276a9e4",
   "metadata": {},
   "outputs": [],
   "source": [
    "# Run this cell to simulate a few steps of the game\n",
    "game = Tetris()\n",
    "for _ in range(10):\n",
    "    game.render()\n",
    "    game.step()\n"
   ]
  }
 ],
 "metadata": {
  "kernelspec": {
   "display_name": "base",
   "language": "python",
   "name": "python3"
  },
  "language_info": {
   "name": "python",
   "version": "3.12.3"
  }
 },
 "nbformat": 4,
 "nbformat_minor": 5
}
